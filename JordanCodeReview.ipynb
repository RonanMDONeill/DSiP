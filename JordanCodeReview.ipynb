{
 "cells": [
  {
   "cell_type": "markdown",
   "metadata": {},
   "source": [
    "# Twitter Scraping #Unethical"
   ]
  },
  {
   "cell_type": "code",
   "execution_count": 38,
   "metadata": {},
   "outputs": [],
   "source": [
    "import requests\n",
    "import pandas as p\n",
    "from bs4 import BeautifulSoup\n",
    "from selenium import webdriver\n",
    "from selenium.webdriver.common.keys import Keys\n",
    "from selenium.common.exceptions import NoSuchElementException, StaleElementReferenceException\n",
    "import time\n",
    "import json\n",
    "import datetime\n",
    "import string\n",
    "import re\n",
    "import bleach"
   ]
  },
  {
   "cell_type": "code",
   "execution_count": 39,
   "metadata": {},
   "outputs": [],
   "source": [
    "user=['elonmusk','tim_cook','jeffbezos']\n",
    "start = datetime.datetime(2019, 1, 1)  \n",
    "end = datetime.datetime(2019, 1, 5)"
   ]
  },
  {
   "cell_type": "code",
   "execution_count": 40,
   "metadata": {},
   "outputs": [],
   "source": [
    "def form_url(since, until,count):\n",
    "\n",
    "    p1 = 'https://twitter.com/search?f=tweets&vertical=default&q=from%3A'\n",
    "    p2 =  user[count] + '%20since%3A' + since + '%20until%3A' + until + 'include%3Aretweets&src=typd'\n",
    "    return p1 + p2\n"
   ]
  },
  {
   "cell_type": "code",
   "execution_count": 41,
   "metadata": {},
   "outputs": [],
   "source": [
    "def format_day(date):\n",
    "    day = '0' + str(date.day) if len(str(date.day)) == 1 else str(date.day)\n",
    "    month = '0' + str(date.month) if len(str(date.month)) == 1 else str(date.month)\n",
    "    year = str(date.year)\n",
    "    return '-'.join([year, month, day])"
   ]
  },
  {
   "cell_type": "code",
   "execution_count": 42,
   "metadata": {},
   "outputs": [],
   "source": [
    "def remove_tags(raw_html):\n",
    "    cleantext=BeautifulSoup(raw_html,\"lxml\").text\n",
    "    return cleantext"
   ]
  },
  {
   "cell_type": "markdown",
   "metadata": {},
   "source": [
    "Need to find this p tag specifically:\n",
    "   \" <p class=\"TweetTextSize  js-tweet-text tweet-text\" lang=\"en\" data-aria-label-part=\"0\"\n",
    "    "
   ]
  },
  {
   "cell_type": "code",
   "execution_count": 54,
   "metadata": {},
   "outputs": [],
   "source": [
    "browser=webdriver.Firefox()\n",
    "url=form_url(format_day(start),format_day(end),0)\n",
    "browser.get(url)\n",
    "time.sleep(3)\n",
    "\n",
    "body=browser.find_element_by_tag_name('body')\n",
    "\n",
    "for _ in range(5):\n",
    "    body.send_keys(Keys.PAGE_DOWN)\n",
    "    time.sleep(0.5)\n",
    "\n",
    "source=browser.page_source\n",
    "tweetlist=[]\n",
    "soup=BeautifulSoup(source,'html.parser')\n",
    "tweets=soup.find_all('p',{'class':'TweetTextSize js-tweet-text tweet-text'})\n",
    "for tweet in tweets:\n",
    "    tweetlist.append(bleach.clean(tweet.text,tags=[],strip=True))\n",
    "\n",
    "\n",
    "browser.close()\n",
    "    "
   ]
  },
  {
   "cell_type": "code",
   "execution_count": 55,
   "metadata": {},
   "outputs": [
    {
     "data": {
      "text/plain": [
       "['Life is made of ups &amp; downs',\n",
       " 'pic.twitter.com/YKHC4TSByn',\n",
       " 'Appears to be simulations all the way down …',\n",
       " 'All parameters in a simulation are necessarily quantized',\n",
       " 'Three quarks for Muster Mark!',\n",
       " 'Wutf',\n",
       " 'What you think I do',\n",
       " '…',\n",
       " 'Ok',\n",
       " 'srsly',\n",
       " '6/5 ',\n",
       " 'To a dyslexic agnostic, there is no …',\n",
       " 'Evian, the first bottled water, is naive spelled backwards',\n",
       " 'There are no coincidencespic.twitter.com/9AEbbuXZGn',\n",
       " 'Model 3 mid-range EPA rating is actually 264 miles, slightly higher than prior estimate of 260https://3.tesla.com/model3/design?#battery\\xa0…',\n",
       " 'Checking …',\n",
       " '',\n",
       " 'Reveals wheels?',\n",
       " 'Weirdly, all the negative press seems to increase sales!',\n",
       " 'Btw, I like your gaming equipment']"
      ]
     },
     "execution_count": 55,
     "metadata": {},
     "output_type": "execute_result"
    }
   ],
   "source": [
    "tweetlist"
   ]
  }
 ],
 "metadata": {
  "kernelspec": {
   "display_name": "Python 3",
   "language": "python",
   "name": "python3"
  },
  "language_info": {
   "codemirror_mode": {
    "name": "ipython",
    "version": 3
   },
   "file_extension": ".py",
   "mimetype": "text/x-python",
   "name": "python",
   "nbconvert_exporter": "python",
   "pygments_lexer": "ipython3",
   "version": "3.7.0"
  }
 },
 "nbformat": 4,
 "nbformat_minor": 2
}
